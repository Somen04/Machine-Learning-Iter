{
 "cells": [
  {
   "cell_type": "code",
   "execution_count": 5,
   "id": "387e9dfb",
   "metadata": {},
   "outputs": [
    {
     "name": "stdout",
     "output_type": "stream",
     "text": [
      "Enter Marks(0-100): 101\n",
      "Invalid marks\n"
     ]
    }
   ],
   "source": [
    "marks=int(input(\"Enter Marks(0-100): \"));\n",
    "if(marks>100):\n",
    "    print(\"Invalid marks\")\n",
    "elif(marks>=90):\n",
    "    print(\"Grade A\")\n",
    "elif(marks>=75):\n",
    "    print(\"Grade B\")\n",
    "elif(marks>=50):\n",
    "    print(\"Grade C\")\n",
    "else:\n",
    "    print(\"Failed\")"
   ]
  },
  {
   "cell_type": "code",
   "execution_count": null,
   "id": "e06de0dd",
   "metadata": {},
   "outputs": [],
   "source": [
    "\n",
    "def is_prime(num):\n",
    "    if num==1:\n",
    "        return False\n",
    "    if num==2:\n",
    "        return True\n",
    "    for i in range(2,num):\n",
    "        if(num%i==0):\n",
    "            return False\n",
    "        else:\n",
    "            return True\n",
    "\n",
    "num=int(input(\"Enter a number to check Prime: \"));\n",
    "is_prime(num)"
   ]
  },
  {
   "cell_type": "code",
   "execution_count": 21,
   "id": "51925ac6",
   "metadata": {},
   "outputs": [],
   "source": [
    "import numpy as np"
   ]
  },
  {
   "cell_type": "code",
   "execution_count": 29,
   "id": "98166b8b",
   "metadata": {},
   "outputs": [
    {
     "data": {
      "text/plain": [
       "array([[ 1,  2,  3,  4],\n",
       "       [ 5,  6,  7,  8],\n",
       "       [ 9, 10, 11, 12],\n",
       "       [13, 14, 15, 16]])"
      ]
     },
     "execution_count": 29,
     "metadata": {},
     "output_type": "execute_result"
    }
   ],
   "source": [
    "mat=np.arange(1,17).reshape(4,4)\n",
    "mat"
   ]
  },
  {
   "cell_type": "code",
   "execution_count": 38,
   "id": "610d438f",
   "metadata": {},
   "outputs": [
    {
     "data": {
      "text/plain": [
       "array([ 2,  6, 10, 14])"
      ]
     },
     "execution_count": 38,
     "metadata": {},
     "output_type": "execute_result"
    }
   ],
   "source": [
    "matA=mat[:,1]\n",
    "matA"
   ]
  },
  {
   "cell_type": "code",
   "execution_count": 39,
   "id": "974b2356",
   "metadata": {},
   "outputs": [
    {
     "data": {
      "text/plain": [
       "array([ 3,  7, 11, 15])"
      ]
     },
     "execution_count": 39,
     "metadata": {},
     "output_type": "execute_result"
    }
   ],
   "source": [
    "matB=mat[:,2]\n",
    "matB"
   ]
  },
  {
   "cell_type": "code",
   "execution_count": null,
   "id": "f4eae08d",
   "metadata": {},
   "outputs": [],
   "source": []
  }
 ],
 "metadata": {
  "kernelspec": {
   "display_name": "Python 3 (ipykernel)",
   "language": "python",
   "name": "python3"
  },
  "language_info": {
   "codemirror_mode": {
    "name": "ipython",
    "version": 3
   },
   "file_extension": ".py",
   "mimetype": "text/x-python",
   "name": "python",
   "nbconvert_exporter": "python",
   "pygments_lexer": "ipython3",
   "version": "3.9.17"
  }
 },
 "nbformat": 4,
 "nbformat_minor": 5
}
