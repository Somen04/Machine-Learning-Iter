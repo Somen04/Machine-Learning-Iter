{
 "cells": [
  {
   "cell_type": "code",
   "execution_count": 1,
   "id": "e98dc9a7",
   "metadata": {},
   "outputs": [
    {
     "name": "stdout",
     "output_type": "stream",
     "text": [
      "Original DataFrame:\n",
      "      Name   Age   Salary\n",
      "0    Alice  25.0  50000.0\n",
      "1      Bob   NaN  60000.0\n",
      "2  Charlie  30.0      NaN\n",
      "3    David  22.0  55000.0\n",
      "4      Eva   NaN  65000.0\n"
     ]
    }
   ],
   "source": [
    "import pandas as pd\n",
    "import numpy as np\n",
    "\n",
    "# Creating a sample DataFrame\n",
    "data = {\n",
    "    'Name': ['Alice', 'Bob', 'Charlie', 'David', 'Eva'],\n",
    "    'Age': [25, np.nan, 30, 22, np.nan],\n",
    "    'Salary': [50000, 60000, np.nan, 55000, 65000]\n",
    "}\n",
    "\n",
    "df = pd.DataFrame(data)\n",
    "print(\"Original DataFrame:\")\n",
    "print(df)\n"
   ]
  },
  {
   "cell_type": "code",
   "execution_count": 2,
   "id": "c5cfbd54",
   "metadata": {},
   "outputs": [
    {
     "name": "stdout",
     "output_type": "stream",
     "text": [
      "\n",
      "Missing values (True = missing, False = not missing):\n",
      "    Name    Age  Salary\n",
      "0  False  False   False\n",
      "1  False   True   False\n",
      "2  False  False    True\n",
      "3  False  False   False\n",
      "4  False   True   False\n"
     ]
    }
   ],
   "source": [
    "# Detecting missing values\n",
    "missing_values = df.isna()\n",
    "print(\"\\nMissing values (True = missing, False = not missing):\")\n",
    "print(missing_values)\n"
   ]
  },
  {
   "cell_type": "code",
   "execution_count": 3,
   "id": "94cc82b4",
   "metadata": {},
   "outputs": [
    {
     "name": "stdout",
     "output_type": "stream",
     "text": [
      "\n",
      "Missing values per column:\n",
      "Name      0\n",
      "Age       2\n",
      "Salary    1\n",
      "dtype: int64\n"
     ]
    }
   ],
   "source": [
    "# Counting missing values per column\n",
    "missing_count = df.isna().sum()\n",
    "print(\"\\nMissing values per column:\")\n",
    "print(missing_count)\n"
   ]
  },
  {
   "cell_type": "code",
   "execution_count": 4,
   "id": "47dd7559",
   "metadata": {},
   "outputs": [
    {
     "name": "stdout",
     "output_type": "stream",
     "text": [
      "\n",
      "DataFrame after dropping rows with any NaN values:\n",
      "    Name   Age   Salary\n",
      "0  Alice  25.0  50000.0\n",
      "3  David  22.0  55000.0\n"
     ]
    }
   ],
   "source": [
    "# Drop rows with any NaN values\n",
    "df_dropped_any = df.dropna()\n",
    "print(\"\\nDataFrame after dropping rows with any NaN values:\")\n",
    "print(df_dropped_any)\n"
   ]
  },
  {
   "cell_type": "code",
   "execution_count": 5,
   "id": "07bfca33",
   "metadata": {},
   "outputs": [
    {
     "name": "stdout",
     "output_type": "stream",
     "text": [
      "\n",
      "DataFrame after dropping rows where all values are NaN:\n",
      "      Name   Age   Salary\n",
      "0    Alice  25.0  50000.0\n",
      "1      Bob   NaN  60000.0\n",
      "2  Charlie  30.0      NaN\n",
      "3    David  22.0  55000.0\n",
      "4      Eva   NaN  65000.0\n"
     ]
    }
   ],
   "source": [
    "# Drop rows where all values are NaN\n",
    "df_dropped_all = df.dropna(how='all')\n",
    "print(\"\\nDataFrame after dropping rows where all values are NaN:\")\n",
    "print(df_dropped_all)\n"
   ]
  },
  {
   "cell_type": "code",
   "execution_count": 6,
   "id": "e07c9e42",
   "metadata": {},
   "outputs": [
    {
     "name": "stdout",
     "output_type": "stream",
     "text": [
      "\n",
      "DataFrame after filling NaN with a fixed value:\n",
      "      Name   Age   Salary\n",
      "0    Alice  25.0  50000.0\n",
      "1      Bob   0.0  60000.0\n",
      "2  Charlie  30.0      0.0\n",
      "3    David  22.0  55000.0\n",
      "4      Eva   0.0  65000.0\n"
     ]
    }
   ],
   "source": [
    "# Fill NaN with a fixed value (e.g., 0 or 'Unknown')\n",
    "df_filled_fixed = df.fillna({'Age': 0, 'Salary': 0})\n",
    "print(\"\\nDataFrame after filling NaN with a fixed value:\")\n",
    "print(df_filled_fixed)\n"
   ]
  },
  {
   "cell_type": "code",
   "execution_count": 7,
   "id": "059e9370",
   "metadata": {},
   "outputs": [
    {
     "name": "stdout",
     "output_type": "stream",
     "text": [
      "\n",
      "DataFrame after filling NaN with the mean of the column:\n",
      "      Name        Age   Salary\n",
      "0    Alice  25.000000  50000.0\n",
      "1      Bob  25.666667  60000.0\n",
      "2  Charlie  30.000000  57500.0\n",
      "3    David  22.000000  55000.0\n",
      "4      Eva  25.666667  65000.0\n"
     ]
    },
    {
     "name": "stderr",
     "output_type": "stream",
     "text": [
      "/tmp/ipykernel_5268/3094230733.py:2: FutureWarning: Dropping of nuisance columns in DataFrame reductions (with 'numeric_only=None') is deprecated; in a future version this will raise TypeError.  Select only valid columns before calling the reduction.\n",
      "  df_filled_mean = df.fillna(df.mean())\n"
     ]
    }
   ],
   "source": [
    "# Fill NaN with the mean of the column\n",
    "df_filled_mean = df.fillna(df.mean())\n",
    "print(\"\\nDataFrame after filling NaN with the mean of the column:\")\n",
    "print(df_filled_mean)\n"
   ]
  },
  {
   "cell_type": "code",
   "execution_count": 8,
   "id": "aa441678",
   "metadata": {},
   "outputs": [
    {
     "name": "stdout",
     "output_type": "stream",
     "text": [
      "\n",
      "DataFrame after forward filling NaN:\n",
      "      Name   Age   Salary\n",
      "0    Alice  25.0  50000.0\n",
      "1      Bob  25.0  60000.0\n",
      "2  Charlie  30.0  60000.0\n",
      "3    David  22.0  55000.0\n",
      "4      Eva  22.0  65000.0\n",
      "\n",
      "DataFrame after backward filling NaN:\n",
      "      Name   Age   Salary\n",
      "0    Alice  25.0  50000.0\n",
      "1      Bob  30.0  60000.0\n",
      "2  Charlie  30.0  55000.0\n",
      "3    David  22.0  55000.0\n",
      "4      Eva   NaN  65000.0\n"
     ]
    }
   ],
   "source": [
    "# Forward fill\n",
    "df_filled_ffill = df.fillna(method='ffill')\n",
    "print(\"\\nDataFrame after forward filling NaN:\")\n",
    "print(df_filled_ffill)\n",
    "\n",
    "# Backward fill\n",
    "df_filled_bfill = df.fillna(method='bfill')\n",
    "print(\"\\nDataFrame after backward filling NaN:\")\n",
    "print(df_filled_bfill)\n"
   ]
  },
  {
   "cell_type": "code",
   "execution_count": 9,
   "id": "0608ecc1",
   "metadata": {},
   "outputs": [
    {
     "name": "stdout",
     "output_type": "stream",
     "text": [
      "\n",
      "DataFrame after linear interpolation:\n",
      "      Name   Age   Salary\n",
      "0    Alice  25.0  50000.0\n",
      "1      Bob  27.5  60000.0\n",
      "2  Charlie  30.0  57500.0\n",
      "3    David  22.0  55000.0\n",
      "4      Eva  22.0  65000.0\n"
     ]
    }
   ],
   "source": [
    "# Linear interpolation\n",
    "df_filled_interpolate = df.interpolate()\n",
    "print(\"\\nDataFrame after linear interpolation:\")\n",
    "print(df_filled_interpolate)\n"
   ]
  },
  {
   "cell_type": "code",
   "execution_count": 10,
   "id": "d3cfc847",
   "metadata": {},
   "outputs": [
    {
     "data": {
      "image/png": "[encoded data removed]",
      "text/plain": [
       "<Figure size 1000x600 with 1 Axes>"
      ]
     },
     "metadata": {},
     "output_type": "display_data"
    }
   ],
   "source": [
    "import matplotlib.pyplot as plt\n",
    "import numpy as np\n",
    "\n",
    "# Create a range of x values\n",
    "x = np.linspace(0, 10, 100)\n",
    "\n",
    "# Plot three lines with different slopes\n",
    "plt.figure(figsize=(10, 6))\n",
    "for a in [1, 2, 3]:\n",
    "    plt.plot(x, a * x, label=f'y = {a}x')\n",
    "\n",
    "plt.title('Multiple Lines: y = a*x')\n",
    "plt.xlabel('x')\n",
    "plt.ylabel('y')\n",
    "plt.legend()\n",
    "plt.show()\n"
   ]
  },
  {
   "cell_type": "code",
   "execution_count": null,
   "id": "019891a0",
   "metadata": {},
   "outputs": [],
   "source": []
  }
 ],
 "metadata": {
  "kernelspec": {
   "display_name": "Python 3 (ipykernel)",
   "language": "python",
   "name": "python3"
  },
  "language_info": {
   "codemirror_mode": {
    "name": "ipython",
    "version": 3
   },
   "file_extension": ".py",
   "mimetype": "text/x-python",
   "name": "python",
   "nbconvert_exporter": "python",
   "pygments_lexer": "ipython3",
   "version": "3.9.17"
  }
 },
 "nbformat": 4,
 "nbformat_minor": 5
}
