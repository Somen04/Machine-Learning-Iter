{
 "cells": [
  {
   "cell_type": "code",
   "execution_count": 6,
   "id": "bea7bbed",
   "metadata": {},
   "outputs": [],
   "source": [
    "import statistics as stats"
   ]
  },
  {
   "cell_type": "code",
   "execution_count": 7,
   "id": "7c4e3194",
   "metadata": {},
   "outputs": [
    {
     "data": {
      "text/plain": [
       "3.5"
      ]
     },
     "execution_count": 7,
     "metadata": {},
     "output_type": "execute_result"
    }
   ],
   "source": [
    "data=[1,3,4,2,6,5,3,4,5,2]\n",
    "avg=stats.mean(data)\n",
    "avg"
   ]
  },
  {
   "cell_type": "code",
   "execution_count": 24,
   "id": "fd2650c4",
   "metadata": {},
   "outputs": [
    {
     "name": "stdout",
     "output_type": "stream",
     "text": [
      "difference: [-2.5, -0.5, 0.5, -1.5, 2.5, 1.5, -0.5, 0.5, 1.5, -1.5]\n",
      "square: [6.25, 0.25, 0.25, 2.25, 6.25, 2.25, 0.25, 0.25, 2.25, 2.25]\n"
     ]
    }
   ],
   "source": [
    "diff=[]\n",
    "sq=[]\n",
    "for i in (data):\n",
    "    me=i-avg\n",
    "    diff.append(me)\n",
    "    s=me*me\n",
    "    sq.append(s)\n",
    "print(\"difference:\",diff)\n",
    "print(\"square:\",sq)"
   ]
  },
  {
   "cell_type": "code",
   "execution_count": null,
   "id": "e78ba26b",
   "metadata": {},
   "outputs": [],
   "source": []
  }
 ],
 "metadata": {
  "kernelspec": {
   "display_name": "Python 3 (ipykernel)",
   "language": "python",
   "name": "python3"
  },
  "language_info": {
   "codemirror_mode": {
    "name": "ipython",
    "version": 3
   },
   "file_extension": ".py",
   "mimetype": "text/x-python",
   "name": "python",
   "nbconvert_exporter": "python",
   "pygments_lexer": "ipython3",
   "version": "3.9.17"
  }
 },
 "nbformat": 4,
 "nbformat_minor": 5
}
