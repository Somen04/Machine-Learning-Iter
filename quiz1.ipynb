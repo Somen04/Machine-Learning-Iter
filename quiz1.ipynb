{
 "cells": [
  {
   "cell_type": "code",
   "execution_count": 1,
   "id": "9aa81e34",
   "metadata": {},
   "outputs": [
    {
     "ename": "SyntaxError",
     "evalue": "invalid syntax (1285988580.py, line 1)",
     "output_type": "error",
     "traceback": [
      "\u001b[0;36m  Cell \u001b[0;32mIn[1], line 1\u001b[0;36m\u001b[0m\n\u001b[0;31m    1. Create a DataFrame containing NaN values.\u001b[0m\n\u001b[0m       ^\u001b[0m\n\u001b[0;31mSyntaxError\u001b[0m\u001b[0;31m:\u001b[0m invalid syntax\n"
     ]
    }
   ],
   "source": [
    "1. Create a DataFrame containing NaN values.\n",
    "(a) Detect missing values\n",
    "(b) Count missing values per column.\n",
    "(c) Drop rows:\n",
    " With any NaN values.\n",
    " Where all values are NaN.\n",
    " Where NaN appears in specific columns (like Age or Salary).\n",
    "(d) Fill missing values:\n",
    " With a fixed value (e.g., 0 or \"Unknown\").\n",
    " With the mean of the column.\n",
    " Using forward fill and backward fill.\n",
    " Using linear interpolation.\n",
    "(e) Compare the results of forward fill vs interpolation on the same dataset.\n",
    "2. Create a DataFrame:\n",
    "data = {\n",
    "'Department': ['HR','IT','HR','IT','Finance'],\n",
    "'Employee': ['A','B','C','D','E'],\n",
    "'Salary': [40000, 50000, 42000, 55000, 60000]\n",
    "}\n",
    "(a) Find average salary per department.\n",
    "(b) Count employees in each department.\n",
    "(c) Sort employees by Salary in ascending order.\n",
    "(d) Sort by Department then by Salary (descending).\n",
    "3. Multiple Lines with Loops\n",
    "Using a for loop, plot 3 lines on the same graph:\n",
    "y=a*x for a=1,2,3.\n",
    "Give each line a different color and label.\n",
    "4. Suppose you have exam marks of 10 students stored in a Python list. Convert it into a\n",
    "NumPy array and compute:\n",
    "a) Average marks of the class\n",
    "b) Students who scored above average\n",
    "5. What is a dataset? Describe about different types of Data."
   ]
  },
  {
   "cell_type": "code",
   "execution_count": 2,
   "id": "8c995c54",
   "metadata": {},
   "outputs": [],
   "source": [
    "import numpy as np\n",
    "import pandas as pd"
   ]
  },
  {
   "cell_type": "code",
   "execution_count": 4,
   "id": "a50d64f3",
   "metadata": {},
   "outputs": [
    {
     "name": "stdout",
     "output_type": "stream",
     "text": [
      "      Name   Age   Salary\n",
      "0    Somen  22.0      NaN\n",
      "1   Anurag   NaN  23400.0\n",
      "2  Abhijit   NaN  30000.0\n",
      "3  Avinash  23.0  32000.0\n"
     ]
    }
   ],
   "source": [
    "data = {\n",
    "    'Name': [\"Somen\",\"Anurag\",\"Abhijit\",\"Avinash\"],\n",
    "    'Age' : [22,np.nan,np.nan,23],\n",
    "    'Salary':[np.nan,23400,30000,32000]\n",
    "}\n",
    "df=pd.DataFrame(data)\n",
    "print(df)"
   ]
  },
  {
   "cell_type": "code",
   "execution_count": 11,
   "id": "2db3a703",
   "metadata": {},
   "outputs": [
    {
     "name": "stdout",
     "output_type": "stream",
     "text": [
      "    Name    Age  Salary\n",
      "0  False  False    True\n",
      "1  False   True   False\n",
      "2  False   True   False\n",
      "3  False  False   False\n",
      "\n",
      "False=non-nan True=nan\n"
     ]
    }
   ],
   "source": [
    "miss_values = df.isna()\n",
    "print(miss_values)\n",
    "print(\"\\nFalse=non-nan True=nan\")"
   ]
  },
  {
   "cell_type": "code",
   "execution_count": 12,
   "id": "a534f89e",
   "metadata": {},
   "outputs": [
    {
     "name": "stdout",
     "output_type": "stream",
     "text": [
      "Name      0\n",
      "Age       2\n",
      "Salary    1\n",
      "dtype: int64\n"
     ]
    }
   ],
   "source": [
    "miss_count=df.isna().sum()\n",
    "print(miss_count)"
   ]
  },
  {
   "cell_type": "code",
   "execution_count": 16,
   "id": "0d449235",
   "metadata": {},
   "outputs": [
    {
     "name": "stdout",
     "output_type": "stream",
     "text": [
      "      Name   Age   Salary\n",
      "3  Avinash  23.0  32000.0\n"
     ]
    }
   ],
   "source": [
    "print(df.dropna())"
   ]
  },
  {
   "cell_type": "code",
   "execution_count": 22,
   "id": "b0d36c19",
   "metadata": {},
   "outputs": [
    {
     "name": "stdout",
     "output_type": "stream",
     "text": [
      "      Name   Age   Salary\n",
      "0    Somen  22.0      NaN\n",
      "1   Anurag   NaN  23400.0\n",
      "2  Abhijit   NaN  30000.0\n",
      "3  Avinash  23.0  32000.0\n"
     ]
    }
   ],
   "source": [
    "print(df.dropna(how=\"all\"))"
   ]
  },
  {
   "cell_type": "code",
   "execution_count": 27,
   "id": "948e225d",
   "metadata": {},
   "outputs": [
    {
     "name": "stdout",
     "output_type": "stream",
     "text": [
      "      Name   Age   Salary\n",
      "3  Avinash  23.0  32000.0\n"
     ]
    }
   ],
   "source": [
    "print(df.dropna(subset=[\"Age\",\"Salary\"]))"
   ]
  },
  {
   "cell_type": "code",
   "execution_count": 23,
   "id": "b48096f5",
   "metadata": {},
   "outputs": [
    {
     "name": "stdout",
     "output_type": "stream",
     "text": [
      "      Name   Age   Salary\n",
      "0    Somen  22.0      0.0\n",
      "1   Anurag   0.0  23400.0\n",
      "2  Abhijit   0.0  30000.0\n",
      "3  Avinash  23.0  32000.0\n"
     ]
    }
   ],
   "source": [
    "print(df.fillna({'Age': 0, 'Salary': 0}))"
   ]
  },
  {
   "cell_type": "code",
   "execution_count": 24,
   "id": "2a8298e4",
   "metadata": {},
   "outputs": [
    {
     "name": "stdout",
     "output_type": "stream",
     "text": [
      "      Name   Age        Salary\n",
      "0    Somen  22.0  28466.666667\n",
      "1   Anurag  22.5  23400.000000\n",
      "2  Abhijit  22.5  30000.000000\n",
      "3  Avinash  23.0  32000.000000\n"
     ]
    },
    {
     "name": "stderr",
     "output_type": "stream",
     "text": [
      "/tmp/ipykernel_3595/546768069.py:1: FutureWarning: Dropping of nuisance columns in DataFrame reductions (with 'numeric_only=None') is deprecated; in a future version this will raise TypeError.  Select only valid columns before calling the reduction.\n",
      "  print(df.fillna(df.mean()))\n"
     ]
    }
   ],
   "source": [
    "print(df.fillna(df.mean()))"
   ]
  },
  {
   "cell_type": "code",
   "execution_count": 25,
   "id": "5b20a997",
   "metadata": {},
   "outputs": [
    {
     "name": "stdout",
     "output_type": "stream",
     "text": [
      "      Name   Age   Salary\n",
      "0    Somen  22.0      NaN\n",
      "1   Anurag  22.0  23400.0\n",
      "2  Abhijit  22.0  30000.0\n",
      "3  Avinash  23.0  32000.0\n"
     ]
    }
   ],
   "source": [
    "print(df.fillna(method=\"ffill\"))"
   ]
  },
  {
   "cell_type": "code",
   "execution_count": 26,
   "id": "6c31b44a",
   "metadata": {},
   "outputs": [
    {
     "name": "stdout",
     "output_type": "stream",
     "text": [
      "      Name   Age   Salary\n",
      "0    Somen  22.0  23400.0\n",
      "1   Anurag  23.0  23400.0\n",
      "2  Abhijit  23.0  30000.0\n",
      "3  Avinash  23.0  32000.0\n"
     ]
    }
   ],
   "source": [
    "print(df.fillna(method=\"bfill\"))"
   ]
  },
  {
   "cell_type": "code",
   "execution_count": 36,
   "id": "dabb6434",
   "metadata": {},
   "outputs": [
    {
     "name": "stdout",
     "output_type": "stream",
     "text": [
      "      Name        Age   Salary\n",
      "0    Somen  22.000000      NaN\n",
      "1   Anurag  22.333333  23400.0\n",
      "2  Abhijit  22.666667  30000.0\n",
      "3  Avinash  23.000000  32000.0\n"
     ]
    }
   ],
   "source": [
    "print(df.interpolate())"
   ]
  },
  {
   "cell_type": "code",
   "execution_count": 38,
   "id": "587b072c",
   "metadata": {},
   "outputs": [
    {
     "data": {
      "text/html": [
       "<div>\n",
       "<style scoped>\n",
       "    .dataframe tbody tr th:only-of-type {\n",
       "        vertical-align: middle;\n",
       "    }\n",
       "\n",
       "    .dataframe tbody tr th {\n",
       "        vertical-align: top;\n",
       "    }\n",
       "\n",
       "    .dataframe thead th {\n",
       "        text-align: right;\n",
       "    }\n",
       "</style>\n",
       "<table border=\"1\" class=\"dataframe\">\n",
       "  <thead>\n",
       "    <tr style=\"text-align: right;\">\n",
       "      <th></th>\n",
       "      <th>Department</th>\n",
       "      <th>Employee</th>\n",
       "      <th>Salary</th>\n",
       "    </tr>\n",
       "  </thead>\n",
       "  <tbody>\n",
       "    <tr>\n",
       "      <th>0</th>\n",
       "      <td>HR</td>\n",
       "      <td>A</td>\n",
       "      <td>40000</td>\n",
       "    </tr>\n",
       "    <tr>\n",
       "      <th>1</th>\n",
       "      <td>IT</td>\n",
       "      <td>B</td>\n",
       "      <td>50000</td>\n",
       "    </tr>\n",
       "    <tr>\n",
       "      <th>2</th>\n",
       "      <td>HR</td>\n",
       "      <td>C</td>\n",
       "      <td>42000</td>\n",
       "    </tr>\n",
       "    <tr>\n",
       "      <th>3</th>\n",
       "      <td>IT</td>\n",
       "      <td>D</td>\n",
       "      <td>55000</td>\n",
       "    </tr>\n",
       "    <tr>\n",
       "      <th>4</th>\n",
       "      <td>Finance</td>\n",
       "      <td>E</td>\n",
       "      <td>60000</td>\n",
       "    </tr>\n",
       "  </tbody>\n",
       "</table>\n",
       "</div>"
      ],
      "text/plain": [
       "  Department Employee  Salary\n",
       "0         HR        A   40000\n",
       "1         IT        B   50000\n",
       "2         HR        C   42000\n",
       "3         IT        D   55000\n",
       "4    Finance        E   60000"
      ]
     },
     "execution_count": 38,
     "metadata": {},
     "output_type": "execute_result"
    }
   ],
   "source": [
    "data = {\n",
    "'Department': ['HR','IT','HR','IT','Finance'],\n",
    "'Employee': ['A','B','C','D','E'],\n",
    "'Salary': [40000, 50000, 42000, 55000, 60000]\n",
    "}\n",
    "df1=pd.DataFrame(data)\n",
    "df1"
   ]
  },
  {
   "cell_type": "code",
   "execution_count": 42,
   "id": "271c82e7",
   "metadata": {},
   "outputs": [
    {
     "name": "stdout",
     "output_type": "stream",
     "text": [
      "Department\n",
      "Finance    60000.0\n",
      "HR         41000.0\n",
      "IT         52500.0\n",
      "Name: Salary, dtype: float64\n"
     ]
    }
   ],
   "source": [
    "print(df1.groupby('Department')['Salary'].mean())"
   ]
  },
  {
   "cell_type": "code",
   "execution_count": 43,
   "id": "a2132a68",
   "metadata": {},
   "outputs": [
    {
     "name": "stdout",
     "output_type": "stream",
     "text": [
      "Department\n",
      "Finance    1\n",
      "HR         2\n",
      "IT         2\n",
      "Name: Employee, dtype: int64\n"
     ]
    }
   ],
   "source": [
    "print(df1.groupby('Department')['Employee'].count())"
   ]
  },
  {
   "cell_type": "code",
   "execution_count": 52,
   "id": "4b35b6f7",
   "metadata": {},
   "outputs": [
    {
     "name": "stdout",
     "output_type": "stream",
     "text": [
      "  Department Employee  Salary\n",
      "0         HR        A   40000\n",
      "2         HR        C   42000\n",
      "1         IT        B   50000\n",
      "3         IT        D   55000\n",
      "4    Finance        E   60000\n"
     ]
    }
   ],
   "source": [
    "print(df1.sort_values(by='Salary', ascending=True))"
   ]
  },
  {
   "cell_type": "code",
   "execution_count": 51,
   "id": "843755b4",
   "metadata": {},
   "outputs": [
    {
     "name": "stdout",
     "output_type": "stream",
     "text": [
      "  Department Employee  Salary\n",
      "3         IT        D   55000\n",
      "1         IT        B   50000\n",
      "2         HR        C   42000\n",
      "0         HR        A   40000\n",
      "4    Finance        E   60000\n"
     ]
    }
   ],
   "source": [
    "print(df1.sort_values(by=['Department', 'Salary'], ascending=False))"
   ]
  },
  {
   "cell_type": "code",
   "execution_count": 64,
   "id": "600e0350",
   "metadata": {},
   "outputs": [
    {
     "data": {
      "image/png": "[encoded data removed]",
      "text/plain": [
       "<Figure size 640x480 with 1 Axes>"
      ]
     },
     "metadata": {},
     "output_type": "display_data"
    }
   ],
   "source": [
    "import matplotlib.pyplot as plt\n",
    "x = np.linspace(0, 10, 100)\n",
    "for a in range(1,4):\n",
    "    plt.plot(x, a * x)\n",
    "plt.title('Multiple Lines: y = a*x')\n",
    "plt.xlabel('x')\n",
    "plt.ylabel('y')\n",
    "plt.show()\n"
   ]
  },
  {
   "cell_type": "code",
   "execution_count": 66,
   "id": "7bd88031",
   "metadata": {},
   "outputs": [
    {
     "name": "stdout",
     "output_type": "stream",
     "text": [
      "[30 29 29 38 40 44 50 41 34 15]\n",
      "35.0\n",
      "38\n",
      "40\n",
      "44\n",
      "50\n",
      "41\n"
     ]
    }
   ],
   "source": [
    "marks=[30,29,29,38,40,44,50,41,34,15]\n",
    "print(np.array(marks))\n",
    "print(np.mean(marks))\n",
    "for i in marks:\n",
    "    if(i>np.mean(marks)):\n",
    "        print(i)"
   ]
  },
  {
   "cell_type": "code",
   "execution_count": null,
   "id": "c3bed374",
   "metadata": {},
   "outputs": [],
   "source": []
  }
 ],
 "metadata": {
  "kernelspec": {
   "display_name": "Python 3 (ipykernel)",
   "language": "python",
   "name": "python3"
  },
  "language_info": {
   "codemirror_mode": {
    "name": "ipython",
    "version": 3
   },
   "file_extension": ".py",
   "mimetype": "text/x-python",
   "name": "python",
   "nbconvert_exporter": "python",
   "pygments_lexer": "ipython3",
   "version": "3.9.17"
  }
 },
 "nbformat": 4,
 "nbformat_minor": 5
}
