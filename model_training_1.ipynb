{
 "cells": [
  {
   "cell_type": "code",
   "execution_count": 9,
   "id": "b86bb066",
   "metadata": {},
   "outputs": [],
   "source": [
    "from sklearn.tree import DecisionTreeClassifier\n",
    "from sklearn.model_selection import train_test_split\n",
    "import pandas as pd\n",
    "import numpy as np"
   ]
  },
  {
   "cell_type": "code",
   "execution_count": 7,
   "id": "aa421735",
   "metadata": {},
   "outputs": [
    {
     "data": {
      "text/html": [
       "<div>\n",
       "<style scoped>\n",
       "    .dataframe tbody tr th:only-of-type {\n",
       "        vertical-align: middle;\n",
       "    }\n",
       "\n",
       "    .dataframe tbody tr th {\n",
       "        vertical-align: top;\n",
       "    }\n",
       "\n",
       "    .dataframe thead th {\n",
       "        text-align: right;\n",
       "    }\n",
       "</style>\n",
       "<table border=\"1\" class=\"dataframe\">\n",
       "  <thead>\n",
       "    <tr style=\"text-align: right;\">\n",
       "      <th></th>\n",
       "      <th>I0</th>\n",
       "      <th>PA500</th>\n",
       "      <th>HFS</th>\n",
       "      <th>DA</th>\n",
       "      <th>Area</th>\n",
       "      <th>A/DA</th>\n",
       "      <th>Max IP</th>\n",
       "      <th>DR</th>\n",
       "      <th>P</th>\n",
       "    </tr>\n",
       "  </thead>\n",
       "  <tbody>\n",
       "    <tr>\n",
       "      <th>0</th>\n",
       "      <td>524.794072</td>\n",
       "      <td>0.187448</td>\n",
       "      <td>0.032114</td>\n",
       "      <td>228.800228</td>\n",
       "      <td>6843.598481</td>\n",
       "      <td>29.910803</td>\n",
       "      <td>60.204880</td>\n",
       "      <td>220.737212</td>\n",
       "      <td>556.828334</td>\n",
       "    </tr>\n",
       "    <tr>\n",
       "      <th>1</th>\n",
       "      <td>330.000000</td>\n",
       "      <td>0.226893</td>\n",
       "      <td>0.265290</td>\n",
       "      <td>121.154201</td>\n",
       "      <td>3163.239472</td>\n",
       "      <td>26.109202</td>\n",
       "      <td>69.717361</td>\n",
       "      <td>99.084964</td>\n",
       "      <td>400.225776</td>\n",
       "    </tr>\n",
       "    <tr>\n",
       "      <th>2</th>\n",
       "      <td>551.879287</td>\n",
       "      <td>0.232478</td>\n",
       "      <td>0.063530</td>\n",
       "      <td>264.804935</td>\n",
       "      <td>11888.391830</td>\n",
       "      <td>44.894903</td>\n",
       "      <td>77.793297</td>\n",
       "      <td>253.785300</td>\n",
       "      <td>656.769449</td>\n",
       "    </tr>\n",
       "    <tr>\n",
       "      <th>3</th>\n",
       "      <td>380.000000</td>\n",
       "      <td>0.240855</td>\n",
       "      <td>0.286234</td>\n",
       "      <td>137.640111</td>\n",
       "      <td>5402.171180</td>\n",
       "      <td>39.248524</td>\n",
       "      <td>88.758446</td>\n",
       "      <td>105.198568</td>\n",
       "      <td>493.701814</td>\n",
       "    </tr>\n",
       "    <tr>\n",
       "      <th>4</th>\n",
       "      <td>362.831266</td>\n",
       "      <td>0.200713</td>\n",
       "      <td>0.244346</td>\n",
       "      <td>124.912559</td>\n",
       "      <td>3290.462446</td>\n",
       "      <td>26.342127</td>\n",
       "      <td>69.389389</td>\n",
       "      <td>103.866552</td>\n",
       "      <td>424.796503</td>\n",
       "    </tr>\n",
       "    <tr>\n",
       "      <th>...</th>\n",
       "      <td>...</td>\n",
       "      <td>...</td>\n",
       "      <td>...</td>\n",
       "      <td>...</td>\n",
       "      <td>...</td>\n",
       "      <td>...</td>\n",
       "      <td>...</td>\n",
       "      <td>...</td>\n",
       "      <td>...</td>\n",
       "    </tr>\n",
       "    <tr>\n",
       "      <th>101</th>\n",
       "      <td>2000.000000</td>\n",
       "      <td>0.106989</td>\n",
       "      <td>0.105418</td>\n",
       "      <td>520.222649</td>\n",
       "      <td>40087.920980</td>\n",
       "      <td>77.059161</td>\n",
       "      <td>204.090347</td>\n",
       "      <td>478.517223</td>\n",
       "      <td>2088.648870</td>\n",
       "    </tr>\n",
       "    <tr>\n",
       "      <th>102</th>\n",
       "      <td>2600.000000</td>\n",
       "      <td>0.200538</td>\n",
       "      <td>0.208043</td>\n",
       "      <td>1063.441427</td>\n",
       "      <td>174480.476200</td>\n",
       "      <td>164.071543</td>\n",
       "      <td>418.687286</td>\n",
       "      <td>977.552367</td>\n",
       "      <td>2664.583623</td>\n",
       "    </tr>\n",
       "    <tr>\n",
       "      <th>103</th>\n",
       "      <td>1600.000000</td>\n",
       "      <td>0.071908</td>\n",
       "      <td>-0.066323</td>\n",
       "      <td>436.943603</td>\n",
       "      <td>12655.342130</td>\n",
       "      <td>28.963331</td>\n",
       "      <td>103.732704</td>\n",
       "      <td>432.129749</td>\n",
       "      <td>1475.371534</td>\n",
       "    </tr>\n",
       "    <tr>\n",
       "      <th>104</th>\n",
       "      <td>2300.000000</td>\n",
       "      <td>0.045029</td>\n",
       "      <td>0.136834</td>\n",
       "      <td>185.446044</td>\n",
       "      <td>5086.292497</td>\n",
       "      <td>27.427344</td>\n",
       "      <td>178.691742</td>\n",
       "      <td>49.593290</td>\n",
       "      <td>2480.592151</td>\n",
       "    </tr>\n",
       "    <tr>\n",
       "      <th>105</th>\n",
       "      <td>2600.000000</td>\n",
       "      <td>0.069988</td>\n",
       "      <td>0.048869</td>\n",
       "      <td>745.474369</td>\n",
       "      <td>39845.773700</td>\n",
       "      <td>53.450226</td>\n",
       "      <td>154.122604</td>\n",
       "      <td>729.368395</td>\n",
       "      <td>2545.419744</td>\n",
       "    </tr>\n",
       "  </tbody>\n",
       "</table>\n",
       "<p>106 rows × 9 columns</p>\n",
       "</div>"
      ],
      "text/plain": [
       "              I0     PA500       HFS           DA           Area        A/DA  \\\n",
       "0     524.794072  0.187448  0.032114   228.800228    6843.598481   29.910803   \n",
       "1     330.000000  0.226893  0.265290   121.154201    3163.239472   26.109202   \n",
       "2     551.879287  0.232478  0.063530   264.804935   11888.391830   44.894903   \n",
       "3     380.000000  0.240855  0.286234   137.640111    5402.171180   39.248524   \n",
       "4     362.831266  0.200713  0.244346   124.912559    3290.462446   26.342127   \n",
       "..           ...       ...       ...          ...            ...         ...   \n",
       "101  2000.000000  0.106989  0.105418   520.222649   40087.920980   77.059161   \n",
       "102  2600.000000  0.200538  0.208043  1063.441427  174480.476200  164.071543   \n",
       "103  1600.000000  0.071908 -0.066323   436.943603   12655.342130   28.963331   \n",
       "104  2300.000000  0.045029  0.136834   185.446044    5086.292497   27.427344   \n",
       "105  2600.000000  0.069988  0.048869   745.474369   39845.773700   53.450226   \n",
       "\n",
       "         Max IP          DR            P  \n",
       "0     60.204880  220.737212   556.828334  \n",
       "1     69.717361   99.084964   400.225776  \n",
       "2     77.793297  253.785300   656.769449  \n",
       "3     88.758446  105.198568   493.701814  \n",
       "4     69.389389  103.866552   424.796503  \n",
       "..          ...         ...          ...  \n",
       "101  204.090347  478.517223  2088.648870  \n",
       "102  418.687286  977.552367  2664.583623  \n",
       "103  103.732704  432.129749  1475.371534  \n",
       "104  178.691742   49.593290  2480.592151  \n",
       "105  154.122604  729.368395  2545.419744  \n",
       "\n",
       "[106 rows x 9 columns]"
      ]
     },
     "execution_count": 7,
     "metadata": {},
     "output_type": "execute_result"
    }
   ],
   "source": [
    "df=pd.read_csv(\"btissue.csv\")\n",
    "predictor=df.iloc[:,0:9]\n",
    "predictor"
   ]
  },
  {
   "cell_type": "code",
   "execution_count": 8,
   "id": "1ff11db2",
   "metadata": {},
   "outputs": [
    {
     "data": {
      "text/plain": [
       "0    car\n",
       "1    car\n",
       "2    car\n",
       "3    car\n",
       "4    car\n",
       "Name: class, dtype: object"
      ]
     },
     "execution_count": 8,
     "metadata": {},
     "output_type": "execute_result"
    }
   ],
   "source": [
    "target=df.iloc[:,9]\n",
    "target.head()"
   ]
  },
  {
   "cell_type": "code",
   "execution_count": 11,
   "id": "3775ff9e",
   "metadata": {},
   "outputs": [],
   "source": [
    "predictor_train,predictor_test,target_train,target_test=train_test_split(predictor,target,test_size=0.3,random_state=10)"
   ]
  },
  {
   "cell_type": "code",
   "execution_count": 12,
   "id": "7a66ffe8",
   "metadata": {},
   "outputs": [
    {
     "data": {
      "text/html": [
       "<div>\n",
       "<style scoped>\n",
       "    .dataframe tbody tr th:only-of-type {\n",
       "        vertical-align: middle;\n",
       "    }\n",
       "\n",
       "    .dataframe tbody tr th {\n",
       "        vertical-align: top;\n",
       "    }\n",
       "\n",
       "    .dataframe thead th {\n",
       "        text-align: right;\n",
       "    }\n",
       "</style>\n",
       "<table border=\"1\" class=\"dataframe\">\n",
       "  <thead>\n",
       "    <tr style=\"text-align: right;\">\n",
       "      <th></th>\n",
       "      <th>I0</th>\n",
       "      <th>PA500</th>\n",
       "      <th>HFS</th>\n",
       "      <th>DA</th>\n",
       "      <th>Area</th>\n",
       "      <th>A/DA</th>\n",
       "      <th>Max IP</th>\n",
       "      <th>DR</th>\n",
       "      <th>P</th>\n",
       "    </tr>\n",
       "  </thead>\n",
       "  <tbody>\n",
       "    <tr>\n",
       "      <th>21</th>\n",
       "      <td>211.000000</td>\n",
       "      <td>0.053931</td>\n",
       "      <td>0.094248</td>\n",
       "      <td>30.753443</td>\n",
       "      <td>151.984578</td>\n",
       "      <td>4.942034</td>\n",
       "      <td>14.268374</td>\n",
       "      <td>27.243124</td>\n",
       "      <td>217.130704</td>\n",
       "    </tr>\n",
       "    <tr>\n",
       "      <th>6</th>\n",
       "      <td>290.455141</td>\n",
       "      <td>0.144164</td>\n",
       "      <td>0.053058</td>\n",
       "      <td>74.635067</td>\n",
       "      <td>1189.545213</td>\n",
       "      <td>15.938154</td>\n",
       "      <td>35.703331</td>\n",
       "      <td>65.541324</td>\n",
       "      <td>330.267293</td>\n",
       "    </tr>\n",
       "    <tr>\n",
       "      <th>37</th>\n",
       "      <td>195.000000</td>\n",
       "      <td>0.139103</td>\n",
       "      <td>0.205251</td>\n",
       "      <td>37.462196</td>\n",
       "      <td>328.384052</td>\n",
       "      <td>8.765745</td>\n",
       "      <td>35.023827</td>\n",
       "      <td>13.294650</td>\n",
       "      <td>232.587628</td>\n",
       "    </tr>\n",
       "    <tr>\n",
       "      <th>39</th>\n",
       "      <td>250.000000</td>\n",
       "      <td>0.047124</td>\n",
       "      <td>0.013963</td>\n",
       "      <td>70.907040</td>\n",
       "      <td>224.145787</td>\n",
       "      <td>3.161122</td>\n",
       "      <td>9.102176</td>\n",
       "      <td>70.320400</td>\n",
       "      <td>232.277629</td>\n",
       "    </tr>\n",
       "    <tr>\n",
       "      <th>81</th>\n",
       "      <td>1270.666717</td>\n",
       "      <td>0.078889</td>\n",
       "      <td>0.065624</td>\n",
       "      <td>555.352318</td>\n",
       "      <td>3612.968333</td>\n",
       "      <td>6.505723</td>\n",
       "      <td>68.781670</td>\n",
       "      <td>551.076473</td>\n",
       "      <td>895.187441</td>\n",
       "    </tr>\n",
       "    <tr>\n",
       "      <th>...</th>\n",
       "      <td>...</td>\n",
       "      <td>...</td>\n",
       "      <td>...</td>\n",
       "      <td>...</td>\n",
       "      <td>...</td>\n",
       "      <td>...</td>\n",
       "      <td>...</td>\n",
       "      <td>...</td>\n",
       "      <td>...</td>\n",
       "    </tr>\n",
       "    <tr>\n",
       "      <th>28</th>\n",
       "      <td>200.000000</td>\n",
       "      <td>0.037699</td>\n",
       "      <td>0.117286</td>\n",
       "      <td>42.316675</td>\n",
       "      <td>220.810907</td>\n",
       "      <td>5.218059</td>\n",
       "      <td>10.675764</td>\n",
       "      <td>40.947882</td>\n",
       "      <td>218.034313</td>\n",
       "    </tr>\n",
       "    <tr>\n",
       "      <th>64</th>\n",
       "      <td>391.000000</td>\n",
       "      <td>0.058119</td>\n",
       "      <td>0.011170</td>\n",
       "      <td>35.780061</td>\n",
       "      <td>265.149790</td>\n",
       "      <td>7.410546</td>\n",
       "      <td>22.131472</td>\n",
       "      <td>28.114244</td>\n",
       "      <td>400.994818</td>\n",
       "    </tr>\n",
       "    <tr>\n",
       "      <th>15</th>\n",
       "      <td>390.000000</td>\n",
       "      <td>0.358316</td>\n",
       "      <td>0.203854</td>\n",
       "      <td>245.686103</td>\n",
       "      <td>10055.836870</td>\n",
       "      <td>40.929612</td>\n",
       "      <td>70.324783</td>\n",
       "      <td>236.490170</td>\n",
       "      <td>477.548360</td>\n",
       "    </tr>\n",
       "    <tr>\n",
       "      <th>100</th>\n",
       "      <td>2000.000000</td>\n",
       "      <td>0.067195</td>\n",
       "      <td>0.124267</td>\n",
       "      <td>330.271646</td>\n",
       "      <td>15381.097690</td>\n",
       "      <td>46.571051</td>\n",
       "      <td>169.197983</td>\n",
       "      <td>283.639564</td>\n",
       "      <td>2063.073212</td>\n",
       "    </tr>\n",
       "    <tr>\n",
       "      <th>9</th>\n",
       "      <td>423.000000</td>\n",
       "      <td>0.219562</td>\n",
       "      <td>0.261799</td>\n",
       "      <td>172.371241</td>\n",
       "      <td>6108.106297</td>\n",
       "      <td>35.435762</td>\n",
       "      <td>79.056351</td>\n",
       "      <td>153.172903</td>\n",
       "      <td>558.274515</td>\n",
       "    </tr>\n",
       "  </tbody>\n",
       "</table>\n",
       "<p>74 rows × 9 columns</p>\n",
       "</div>"
      ],
      "text/plain": [
       "              I0     PA500       HFS          DA          Area       A/DA  \\\n",
       "21    211.000000  0.053931  0.094248   30.753443    151.984578   4.942034   \n",
       "6     290.455141  0.144164  0.053058   74.635067   1189.545213  15.938154   \n",
       "37    195.000000  0.139103  0.205251   37.462196    328.384052   8.765745   \n",
       "39    250.000000  0.047124  0.013963   70.907040    224.145787   3.161122   \n",
       "81   1270.666717  0.078889  0.065624  555.352318   3612.968333   6.505723   \n",
       "..           ...       ...       ...         ...           ...        ...   \n",
       "28    200.000000  0.037699  0.117286   42.316675    220.810907   5.218059   \n",
       "64    391.000000  0.058119  0.011170   35.780061    265.149790   7.410546   \n",
       "15    390.000000  0.358316  0.203854  245.686103  10055.836870  40.929612   \n",
       "100  2000.000000  0.067195  0.124267  330.271646  15381.097690  46.571051   \n",
       "9     423.000000  0.219562  0.261799  172.371241   6108.106297  35.435762   \n",
       "\n",
       "         Max IP          DR            P  \n",
       "21    14.268374   27.243124   217.130704  \n",
       "6     35.703331   65.541324   330.267293  \n",
       "37    35.023827   13.294650   232.587628  \n",
       "39     9.102176   70.320400   232.277629  \n",
       "81    68.781670  551.076473   895.187441  \n",
       "..          ...         ...          ...  \n",
       "28    10.675764   40.947882   218.034313  \n",
       "64    22.131472   28.114244   400.994818  \n",
       "15    70.324783  236.490170   477.548360  \n",
       "100  169.197983  283.639564  2063.073212  \n",
       "9     79.056351  153.172903   558.274515  \n",
       "\n",
       "[74 rows x 9 columns]"
      ]
     },
     "execution_count": 12,
     "metadata": {},
     "output_type": "execute_result"
    }
   ],
   "source": [
    "predictor_train"
   ]
  },
  {
   "cell_type": "code",
   "execution_count": 16,
   "id": "2ecd2289",
   "metadata": {
    "scrolled": true
   },
   "outputs": [
    {
     "data": {
      "text/html": [
       "<style>#sk-container-id-2 {color: black;}#sk-container-id-2 pre{padding: 0;}#sk-container-id-2 div.sk-toggleable {background-color: white;}#sk-container-id-2 label.sk-toggleable__label {cursor: pointer;display: block;width: 100%;margin-bottom: 0;padding: 0.3em;box-sizing: border-box;text-align: center;}#sk-container-id-2 label.sk-toggleable__label-arrow:before {content: \"▸\";float: left;margin-right: 0.25em;color: #696969;}#sk-container-id-2 label.sk-toggleable__label-arrow:hover:before {color: black;}#sk-container-id-2 div.sk-estimator:hover label.sk-toggleable__label-arrow:before {color: black;}#sk-container-id-2 div.sk-toggleable__content {max-height: 0;max-width: 0;overflow: hidden;text-align: left;background-color: #f0f8ff;}#sk-container-id-2 div.sk-toggleable__content pre {margin: 0.2em;color: black;border-radius: 0.25em;background-color: #f0f8ff;}#sk-container-id-2 input.sk-toggleable__control:checked~div.sk-toggleable__content {max-height: 200px;max-width: 100%;overflow: auto;}#sk-container-id-2 input.sk-toggleable__control:checked~label.sk-toggleable__label-arrow:before {content: \"▾\";}#sk-container-id-2 div.sk-estimator input.sk-toggleable__control:checked~label.sk-toggleable__label {background-color: #d4ebff;}#sk-container-id-2 div.sk-label input.sk-toggleable__control:checked~label.sk-toggleable__label {background-color: #d4ebff;}#sk-container-id-2 input.sk-hidden--visually {border: 0;clip: rect(1px 1px 1px 1px);clip: rect(1px, 1px, 1px, 1px);height: 1px;margin: -1px;overflow: hidden;padding: 0;position: absolute;width: 1px;}#sk-container-id-2 div.sk-estimator {font-family: monospace;background-color: #f0f8ff;border: 1px dotted black;border-radius: 0.25em;box-sizing: border-box;margin-bottom: 0.5em;}#sk-container-id-2 div.sk-estimator:hover {background-color: #d4ebff;}#sk-container-id-2 div.sk-parallel-item::after {content: \"\";width: 100%;border-bottom: 1px solid gray;flex-grow: 1;}#sk-container-id-2 div.sk-label:hover label.sk-toggleable__label {background-color: #d4ebff;}#sk-container-id-2 div.sk-serial::before {content: \"\";position: absolute;border-left: 1px solid gray;box-sizing: border-box;top: 0;bottom: 0;left: 50%;z-index: 0;}#sk-container-id-2 div.sk-serial {display: flex;flex-direction: column;align-items: center;background-color: white;padding-right: 0.2em;padding-left: 0.2em;position: relative;}#sk-container-id-2 div.sk-item {position: relative;z-index: 1;}#sk-container-id-2 div.sk-parallel {display: flex;align-items: stretch;justify-content: center;background-color: white;position: relative;}#sk-container-id-2 div.sk-item::before, #sk-container-id-2 div.sk-parallel-item::before {content: \"\";position: absolute;border-left: 1px solid gray;box-sizing: border-box;top: 0;bottom: 0;left: 50%;z-index: -1;}#sk-container-id-2 div.sk-parallel-item {display: flex;flex-direction: column;z-index: 1;position: relative;background-color: white;}#sk-container-id-2 div.sk-parallel-item:first-child::after {align-self: flex-end;width: 50%;}#sk-container-id-2 div.sk-parallel-item:last-child::after {align-self: flex-start;width: 50%;}#sk-container-id-2 div.sk-parallel-item:only-child::after {width: 0;}#sk-container-id-2 div.sk-dashed-wrapped {border: 1px dashed gray;margin: 0 0.4em 0.5em 0.4em;box-sizing: border-box;padding-bottom: 0.4em;background-color: white;}#sk-container-id-2 div.sk-label label {font-family: monospace;font-weight: bold;display: inline-block;line-height: 1.2em;}#sk-container-id-2 div.sk-label-container {text-align: center;}#sk-container-id-2 div.sk-container {/* jupyter's `normalize.less` sets `[hidden] { display: none; }` but bootstrap.min.css set `[hidden] { display: none !important; }` so we also need the `!important` here to be able to override the default hidden behavior on the sphinx rendered scikit-learn.org. See: https://github.com/scikit-learn/scikit-learn/issues/21755 */display: inline-block !important;position: relative;}#sk-container-id-2 div.sk-text-repr-fallback {display: none;}</style><div id=\"sk-container-id-2\" class=\"sk-top-container\"><div class=\"sk-text-repr-fallback\"><pre>DecisionTreeClassifier(criterion=&#x27;entropy&#x27;, max_depth=3, min_samples_leaf=5,\n",
       "                       random_state=42)</pre><b>In a Jupyter environment, please rerun this cell to show the HTML representation or trust the notebook. <br />On GitHub, the HTML representation is unable to render, please try loading this page with nbviewer.org.</b></div><div class=\"sk-container\" hidden><div class=\"sk-item\"><div class=\"sk-estimator sk-toggleable\"><input class=\"sk-toggleable__control sk-hidden--visually\" id=\"sk-estimator-id-2\" type=\"checkbox\" checked><label for=\"sk-estimator-id-2\" class=\"sk-toggleable__label sk-toggleable__label-arrow\">DecisionTreeClassifier</label><div class=\"sk-toggleable__content\"><pre>DecisionTreeClassifier(criterion=&#x27;entropy&#x27;, max_depth=3, min_samples_leaf=5,\n",
       "                       random_state=42)</pre></div></div></div></div></div>"
      ],
      "text/plain": [
       "DecisionTreeClassifier(criterion='entropy', max_depth=3, min_samples_leaf=5,\n",
       "                       random_state=42)"
      ]
     },
     "execution_count": 16,
     "metadata": {},
     "output_type": "execute_result"
    }
   ],
   "source": [
    "dtree_classify=DecisionTreeClassifier(criterion='entropy',random_state=42,max_depth=3,min_samples_leaf=5)\n",
    "dtree_classify"
   ]
  },
  {
   "cell_type": "code",
   "execution_count": 17,
   "id": "aeafe19b",
   "metadata": {},
   "outputs": [],
   "source": [
    "model=dtree_classify.fit(predictor_train,target_train)"
   ]
  },
  {
   "cell_type": "code",
   "execution_count": 25,
   "id": "5cd18dd5",
   "metadata": {},
   "outputs": [],
   "source": [
    "prediction=model.predict(predictor_test)"
   ]
  },
  {
   "cell_type": "code",
   "execution_count": 26,
   "id": "5df4c590",
   "metadata": {},
   "outputs": [],
   "source": [
    "from sklearn.metrics import accuracy_score"
   ]
  },
  {
   "cell_type": "code",
   "execution_count": 27,
   "id": "40890a53",
   "metadata": {},
   "outputs": [
    {
     "data": {
      "text/plain": [
       "0.625"
      ]
     },
     "execution_count": 27,
     "metadata": {},
     "output_type": "execute_result"
    }
   ],
   "source": [
    "accuracy_score(target_test,prediction,normalize=True)"
   ]
  },
  {
   "cell_type": "code",
   "execution_count": 28,
   "id": "b61557c8",
   "metadata": {},
   "outputs": [],
   "source": [
    "from sklearn.metrics import confusion_matrix"
   ]
  },
  {
   "cell_type": "code",
   "execution_count": 29,
   "id": "446e24fb",
   "metadata": {},
   "outputs": [
    {
     "data": {
      "text/plain": [
       "array([[6, 0, 0, 0, 0, 0],\n",
       "       [0, 5, 0, 0, 0, 0],\n",
       "       [0, 0, 4, 0, 0, 0],\n",
       "       [0, 0, 0, 1, 1, 0],\n",
       "       [0, 0, 0, 2, 4, 0],\n",
       "       [0, 3, 0, 6, 0, 0]])"
      ]
     },
     "execution_count": 29,
     "metadata": {},
     "output_type": "execute_result"
    }
   ],
   "source": [
    "confusion_matrix(target_test,prediction)"
   ]
  },
  {
   "cell_type": "code",
   "execution_count": 52,
   "id": "9fc5024a",
   "metadata": {},
   "outputs": [
    {
     "data": {
      "text/plain": [
       "array([[1, 1],\n",
       "       [1, 2]])"
      ]
     },
     "execution_count": 52,
     "metadata": {},
     "output_type": "execute_result"
    }
   ],
   "source": [
    "y_true=[1,0,1,0,1]\n",
    "y_pred=[1,0,0,1,1]\n",
    "confusion_matrix(y_true,y_pred)"
   ]
  },
  {
   "cell_type": "code",
   "execution_count": 55,
   "id": "f3b1ea98",
   "metadata": {},
   "outputs": [],
   "source": [
    "data=pd.read_csv(\"auto_mpg.csv\")"
   ]
  },
  {
   "cell_type": "code",
   "execution_count": 56,
   "id": "bc0ec511",
   "metadata": {},
   "outputs": [],
   "source": [
    "data=data.dropna(axis=0,how='any')"
   ]
  },
  {
   "cell_type": "code",
   "execution_count": 58,
   "id": "917faf44",
   "metadata": {},
   "outputs": [],
   "source": [
    "predictors=data.iloc[:,1:8]"
   ]
  },
  {
   "cell_type": "code",
   "execution_count": 60,
   "id": "16973ed6",
   "metadata": {},
   "outputs": [],
   "source": [
    "targets=data.iloc[:,0]"
   ]
  },
  {
   "cell_type": "code",
   "execution_count": 61,
   "id": "1923cc56",
   "metadata": {},
   "outputs": [],
   "source": [
    "predictor_train,predictor_test,target_train,target_test=train_test_split(predictors,targets,test_size=0.3,random_state=10)"
   ]
  },
  {
   "cell_type": "code",
   "execution_count": 62,
   "id": "466ae387",
   "metadata": {},
   "outputs": [],
   "source": [
    "from sklearn.linear_model import LinearRegression"
   ]
  },
  {
   "cell_type": "code",
   "execution_count": 63,
   "id": "deaab5d4",
   "metadata": {},
   "outputs": [],
   "source": [
    "model=LinearRegression()"
   ]
  },
  {
   "cell_type": "code",
   "execution_count": 64,
   "id": "20c8160b",
   "metadata": {},
   "outputs": [],
   "source": [
    "model=model.fit(predictor_train,target_train)"
   ]
  },
  {
   "cell_type": "code",
   "execution_count": 66,
   "id": "ec00b323",
   "metadata": {},
   "outputs": [],
   "source": [
    "prediction=model.predict(predictor_test)"
   ]
  },
  {
   "cell_type": "code",
   "execution_count": 67,
   "id": "840ab668",
   "metadata": {},
   "outputs": [],
   "source": [
    "from sklearn.metrics import mean_squared_error,r2_score"
   ]
  },
  {
   "cell_type": "code",
   "execution_count": 68,
   "id": "cf4ebd5c",
   "metadata": {},
   "outputs": [
    {
     "data": {
      "text/plain": [
       "11.794963441466182"
      ]
     },
     "execution_count": 68,
     "metadata": {},
     "output_type": "execute_result"
    }
   ],
   "source": [
    "mean_squared_error(target_test,prediction)"
   ]
  },
  {
   "cell_type": "code",
   "execution_count": 69,
   "id": "70c41b3d",
   "metadata": {},
   "outputs": [
    {
     "data": {
      "text/plain": [
       "0.7916697479141042"
      ]
     },
     "execution_count": 69,
     "metadata": {},
     "output_type": "execute_result"
    }
   ],
   "source": [
    "r2_score(target_test,prediction)"
   ]
  },
  {
   "cell_type": "code",
   "execution_count": null,
   "id": "9fd5cc2e",
   "metadata": {},
   "outputs": [],
   "source": []
  }
 ],
 "metadata": {
  "kernelspec": {
   "display_name": "Python 3 (ipykernel)",
   "language": "python",
   "name": "python3"
  },
  "language_info": {
   "codemirror_mode": {
    "name": "ipython",
    "version": 3
   },
   "file_extension": ".py",
   "mimetype": "text/x-python",
   "name": "python",
   "nbconvert_exporter": "python",
   "pygments_lexer": "ipython3",
   "version": "3.9.17"
  }
 },
 "nbformat": 4,
 "nbformat_minor": 5
}
